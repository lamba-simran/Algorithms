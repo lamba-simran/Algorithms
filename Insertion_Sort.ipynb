{
 "cells": [
  {
   "cell_type": "code",
   "execution_count": 5,
   "metadata": {
    "collapsed": true
   },
   "outputs": [],
   "source": [
    "A=[3,9,18,4,5,2]"
   ]
  },
  {
   "cell_type": "code",
   "execution_count": 8,
   "metadata": {},
   "outputs": [
    {
     "name": "stdout",
     "output_type": "stream",
     "text": [
      "key 9\n",
      "j is 0\n",
      "A 1 is [3, 9, 18, 4, 5, 2]\n",
      "key 18\n",
      "j is 1\n",
      "A 2 is [3, 9, 18, 4, 5, 2]\n",
      "key 4\n",
      "j is 2\n",
      "A 3 is [3, 4, 9, 18, 5, 2]\n",
      "key 5\n",
      "j is 3\n",
      "A 4 is [3, 4, 5, 9, 18, 2]\n",
      "key 2\n",
      "j is 4\n",
      "A 5 is [3, 2, 4, 5, 9, 18]\n",
      "[3, 2, 4, 5, 9, 18]\n"
     ]
    }
   ],
   "source": [
    "length=len(A)\n",
    "\n",
    "for i in range(1,length):\n",
    "    key=A[i]\n",
    "    print (\"key\",key)\n",
    "    j=i-1\n",
    "    print (\"j is\",j)\n",
    "    while(j>0 and key<A[j]):        \n",
    "            A[j+1]=A[j]\n",
    "            j-=1\n",
    "        \n",
    "    A[j+1]=key\n",
    "            \n",
    "    print (\"A\",i,\"is\",A)\n",
    "    \n",
    "print(A)"
   ]
  },
  {
   "cell_type": "code",
   "execution_count": null,
   "metadata": {
    "collapsed": true
   },
   "outputs": [],
   "source": []
  }
 ],
 "metadata": {
  "kernelspec": {
   "display_name": "Python 3",
   "language": "python",
   "name": "python3"
  },
  "language_info": {
   "codemirror_mode": {
    "name": "ipython",
    "version": 3
   },
   "file_extension": ".py",
   "mimetype": "text/x-python",
   "name": "python",
   "nbconvert_exporter": "python",
   "pygments_lexer": "ipython3",
   "version": "3.6.3"
  }
 },
 "nbformat": 4,
 "nbformat_minor": 2
}
