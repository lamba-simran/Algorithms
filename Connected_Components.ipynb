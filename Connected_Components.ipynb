{
 "cells": [
  {
   "cell_type": "markdown",
   "metadata": {},
   "source": [
    "# Connected Components( Depth First Search)\n",
    "\n",
    "-Learned handling of graph data structures.\n",
    "\n",
    "-Implemented depth-first search for identifying the connected components of an undirected graph, implementing procedure Search as a subroutine along the way.\n",
    "\n",
    "-Used the [NetworkX](https://networkx.github.io/) Python package to represent and manipulate graphs. \n",
    "\n",
    "-Worked with a dataset recording the interactions between characters in Homer's *Iliad*."
   ]
  },
  {
   "cell_type": "code",
   "execution_count": 24,
   "metadata": {
    "collapsed": true
   },
   "outputs": [],
   "source": [
    "import networkx\n",
    "import urllib2\n",
    "homer = urllib2.urlopen('http://people.sc.fsu.edu/~jburkardt/datasets/sgb/homer.dat')"
   ]
  },
  {
   "cell_type": "markdown",
   "metadata": {},
   "source": [
    "The format of the data is straightforward. After some comment lines (beginning with \\*), the file lists a codename for each character (i.e., node of the graph), followed by a description. The file then lists the groups of characters that interact in each chapter, from which you will form the edges. For instance, the first line has the form:\n",
    "\n",
    "```1:CH,AG,ME,GS;AP,CH;HE,AC;AC,AG,CA;HE,AT;AT,AC;AT,OG;NE,AG,AC;CS,OD```\n",
    "\n",
    "This means that CH,AG,ME,GS interacted, so there are edges for all pairs of these nodes. Groups of characters that interacted are separated by semicolons. The lines start with chapter information of the form `1:` or `&:`, which can be ignored for this problem."
   ]
  },
  {
   "cell_type": "markdown",
   "metadata": {},
   "source": [
    "##### Function to read in the nodes from the input file"
   ]
  },
  {
   "cell_type": "code",
   "execution_count": 25,
   "metadata": {
    "collapsed": true
   },
   "outputs": [],
   "source": [
    "def read_nodes(gfile):\n",
    "    \"\"\"Reads in the nodes of the graph from the input file.\n",
    "    \n",
    "    Args:\n",
    "        gfile: A handle for the file containing the graph data, starting at the top.\n",
    "        \n",
    "    Returns:\n",
    "        A generator of the nodes in the graph, yielding a list of the form:\n",
    "            ['CH', 'AG, 'ME', ...]\n",
    "    \"\"\"\n",
    "   \n",
    "    content = gfile.readline()\n",
    "    while content != '\\n':\n",
    "        content = content.replace('\\n', '')    #replace all the newlines by spaces\n",
    "        if len(content) != 0:                  \n",
    "            if content[0] != '*':              #skip all the lines starting with *\n",
    "                if content[:2] != '1:':        \n",
    "                    yield content[:2]          #returns a generator object, taking characters till index 2\n",
    "                else: break\n",
    "        content = gfile.readline()\n",
    "    pass "
   ]
  },
  {
   "cell_type": "markdown",
   "metadata": {},
   "source": [
    "##### Function to read in the edges from the input file."
   ]
  },
  {
   "cell_type": "code",
   "execution_count": 34,
   "metadata": {},
   "outputs": [
    {
     "name": "stdout",
     "output_type": "stream",
     "text": [
      "[]\n"
     ]
    }
   ],
   "source": [
    "def read_edges(gfile):\n",
    "    \"\"\"Reads in the edges of the graph from the input file.\n",
    "    \n",
    "    Args:\n",
    "        gfile: A handle for the file containing the graph data, starting at the top \n",
    "            of the edges section.\n",
    "            \n",
    "    Returns:\n",
    "        A generator of the edges in the graph, yielding a list of pairs of the form:\n",
    "            [('CH', 'AG'), ('AG', 'ME'), ...]\n",
    "    \"\"\"\n",
    "    \n",
    "    for content in gfile.readlines():\n",
    "        content = content.replace('\\n', '')                                  #replace all the newlines by spaces\n",
    "        if len(content)>1:\n",
    "            if ':' in content:\n",
    "                mark = content.index(':')\n",
    "                content = content[(mark+1):]                #store all the interactions starting after ':' in content\n",
    "                groups = content.split(';')                 #split by ';'\n",
    "                for interactions in groups:                 \n",
    "                    interactions = interactions.split(',')  #split by ','\n",
    "                    for node1 in range(len(interactions)-1):\n",
    "                        for node2 in range(node1+1, len(interactions)):\n",
    "                            edge = (interactions[node1], interactions[node2])\n",
    "                            yield edge\n",
    "    pass\n",
    "print(list(read_edges(homer)))"
   ]
  },
  {
   "cell_type": "markdown",
   "metadata": {},
   "source": [
    "#### create the graph."
   ]
  },
  {
   "cell_type": "code",
   "execution_count": 27,
   "metadata": {
    "collapsed": true
   },
   "outputs": [],
   "source": [
    "import networkx as nx\n",
    "G = nx.Graph()\n",
    "G.add_nodes_from(read_nodes(homer))\n",
    "G.add_edges_from(read_edges(homer))"
   ]
  },
  {
   "cell_type": "code",
   "execution_count": 33,
   "metadata": {},
   "outputs": [
    {
     "data": {
      "text/plain": [
       "1629"
      ]
     },
     "execution_count": 33,
     "metadata": {},
     "output_type": "execute_result"
    }
   ],
   "source": [
    "G.number_of_edges()"
   ]
  },
  {
   "cell_type": "markdown",
   "metadata": {},
   "source": [
    "##### Function to implement procedure Search. The function takes in a graph and a root node, and returns a list of the nodes visited during the search. The nodes  appear in the order in which they were *first visited*. The neighbors of a nodes are processed in *alphabetical order*, where numbers come before letters. "
   ]
  },
  {
   "cell_type": "code",
   "execution_count": 28,
   "metadata": {
    "collapsed": true
   },
   "outputs": [],
   "source": [
    "def Search(graph, root):\n",
    "    \"\"\"Runs depth-first search through a graph, starting at a given root. Neighboring\n",
    "    nodes are processed in alphabetical order.\n",
    "    \n",
    "    Args:\n",
    "        graph: the given graph, with nodes encoded as strings.\n",
    "        root: the node from which to start the search.\n",
    "        \n",
    "    Returns:\n",
    "        A list of nodes in the order in which they were first visited.\n",
    "    \"\"\"\n",
    "  \n",
    "    stack = [root]                        #initialize a stack with the root node\n",
    "    explored = []                         #list of nodes that have been discovered\n",
    "    while stack:\n",
    "        node = stack.pop()\n",
    "        if node in explored : continue \n",
    "        explored.append(node)             #add the node to the list of explored if undiscovered\n",
    "        neighbors = graph.neighbors(node) #neighbors of the node\n",
    "        neighbors.sort()                  #sort the neighbors in alphanumeric order\n",
    "        stack.extend(neighbors)           #add neighbors to the stack\n",
    "    return explored\n",
    "    pass"
   ]
  },
  {
   "cell_type": "markdown",
   "metadata": {},
   "source": [
    "##### Function to implement DFS to find the connected components of the character graph. When choosing roots for components, always pick the *smallest unvisited node* according to alphabetical ordering. "
   ]
  },
  {
   "cell_type": "code",
   "execution_count": 30,
   "metadata": {
    "collapsed": true
   },
   "outputs": [],
   "source": [
    "def connected_components(graph):\n",
    "    \"\"\"Computes the connected components of the given graph.\n",
    "    \n",
    "    Args: \n",
    "        graph: the given graph, with nodes encoded as strings.\n",
    "        \n",
    "    Returns:\n",
    "        The connected components of the graph. Components are listed in\n",
    "        alphabetical order of their root nodes.\n",
    "    \"\"\"\n",
    "   \n",
    "    vertices = graph.nodes()                        #list of all the nodes\n",
    "    vertices.sort()                                 #sort the nodes\n",
    "    seen = []                                       #empty list of explored nodes\n",
    "    components = []                                 #stores lists of connected components\n",
    "    for v in vertices:\n",
    "        if v not in seen:\n",
    "            connected_component = Search(graph,v)\n",
    "            components.append(connected_component)\n",
    "            seen.extend(connected_component)\n",
    "    return components\n",
    "    \n",
    "    pass"
   ]
  },
  {
   "cell_type": "code",
   "execution_count": 31,
   "metadata": {
    "collapsed": true
   },
   "outputs": [],
   "source": [
    "character_interactions = connected_components(G)"
   ]
  },
  {
   "cell_type": "code",
   "execution_count": 32,
   "metadata": {},
   "outputs": [
    {
     "name": "stdout",
     "output_type": "stream",
     "text": [
      "There are 12 connected components in the Iliad: True\n",
      "The giant component has size 542: True\n",
      "There are 5 isolated characters: True\n"
     ]
    }
   ],
   "source": [
    "component_sizes = [len(c) for c in character_interactions]\n",
    "print \"There are 12 connected components in the Iliad:\", len(component_sizes) == 12\n",
    "print \"The giant component has size 542:\", max(component_sizes) == 542\n",
    "print \"There are 5 isolated characters:\", len([c for c in component_sizes if c == 1]) == 5"
   ]
  },
  {
   "cell_type": "code",
   "execution_count": null,
   "metadata": {
    "collapsed": true
   },
   "outputs": [],
   "source": []
  }
 ],
 "metadata": {
  "kernelspec": {
   "display_name": "Python 3",
   "language": "python",
   "name": "python3"
  },
  "language_info": {
   "codemirror_mode": {
    "name": "ipython",
    "version": 3
   },
   "file_extension": ".py",
   "mimetype": "text/x-python",
   "name": "python",
   "nbconvert_exporter": "python",
   "pygments_lexer": "ipython3",
   "version": "3.6.3"
  }
 },
 "nbformat": 4,
 "nbformat_minor": 1
}
