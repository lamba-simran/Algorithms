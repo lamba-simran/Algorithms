{
 "cells": [
  {
   "cell_type": "markdown",
   "metadata": {},
   "source": [
    "# Generalizations of Max-Flow\n"
   ]
  },
  {
   "cell_type": "markdown",
   "metadata": {},
   "source": [
    "## Min-Cost Flow\n",
    "\n",
    "Flow network with demands consists of a directed graph $G = (V, E)$, where each edge $(i,j) \\in E$ has a positive integer capacity $c_{ij}$ and each node $i \\in V$ has an integer demand $d_i$. In a *min-cost flow* problem, each edge $(i,j) \\in E$ also has a cost (or weight) $w_{ij}$. \n",
    "\n",
    "Given a flow network with capacities and costs, the goal is to find a *feasible* flow $f: E \\rightarrow R^+$ --that is, a flow satisfying edge capacity constraints and node demands-- that minimizes the total cost of the flow. Explicitly, the problem can be formulated as a linear program."
   ]
  },
  {
   "cell_type": "markdown",
   "metadata": {},
   "source": [
    "Data was picked from some standard benchmark instances for min-cost flow found [here](http://elib.zib.de/pub/mp-testdata/mincost/gte/index.html). The format of the data is described in the [Info](http://elib.zib.de/pub/mp-testdata/mincost/gte/info) file. "
   ]
  },
  {
   "cell_type": "code",
   "execution_count": 11,
   "metadata": {
    "collapsed": true
   },
   "outputs": [],
   "source": [
    "import networkx as nx\n",
    "\n",
    "def create_graph(infile):\n",
    "    \"\"\"Creates a directed graph as specified by the input file. Edges are annotated with 'capacity'\n",
    "    and 'weight' attributes, and nodes are annotated with 'demand' attributes.\n",
    "    \n",
    "    Args:\n",
    "        infile: the input file using the format to specify a min-cost flow problem.\n",
    "        \n",
    "    Returns:\n",
    "        A directed graph (but not a multi-graph) with edges annotated with 'capacity' and 'weight' attributes\n",
    "        and nodes annotated with 'demand' attributes.\n",
    "    \"\"\"\n",
    "    \n",
    "    f = open(infile)\n",
    "    G = nx.DiGraph()\n",
    "    count = 0\n",
    "    \n",
    "    #Function\n",
    "    for line in f.readlines():\n",
    "        count = count+1\n",
    "        \n",
    "        if line != '\\n':\n",
    "            start = line.split()[0]     \n",
    "            \n",
    "            #checking if the line starts with p, n or a and using the description in the info file\n",
    "            if start == 'p':\n",
    "                nodes = int(line.split()[2])\n",
    "                edges = int(line.split()[3])\n",
    "            \n",
    "            if start == 'n':\n",
    "                line_split = line.split()\n",
    "                node, demand = line_split[1:3]\n",
    "                G.add_node(node)\n",
    "                G.node[node]['demand'] = float(demand)\n",
    "            \n",
    "            if start == 'a':\n",
    "                line_split = line.split()\n",
    "                e_tail, e_head, e_cap_lower, e_cap, e_wt = line_split[1:6]\n",
    "                \n",
    "                if e_cap < 0:\n",
    "                    e_cap = float('inf')\n",
    "                else: \n",
    "                    e_cap = float(e_cap)\n",
    "                    \n",
    "                #For the first edge between two nodes\n",
    "                if (e_tail, e_head) not in G.edges(): \n",
    "                    G.add_edge(e_tail, e_head)\n",
    "                    G.edge[e_tail][e_head]['capacity'] = float(e_cap)\n",
    "                    G.edge[e_tail][e_head]['weight'] = float(e_wt)   \n",
    "                 \n",
    "                #If multiple edges are found, add a new node   \n",
    "                else:                                      \n",
    "                    e_int = e_tail + '_' + e_head + '_' + 'int' + '_' + str(count)\n",
    "                    G.add_edge(e_tail, e_int)\n",
    "                    G.edge[e_tail][e_int]['capacity'] = float(e_cap)\n",
    "                    G.edge[e_tail][e_int]['weight'] = float(e_wt)/2.0  \n",
    "                    \n",
    "                    G.add_edge(e_int, e_head)\n",
    "                    G.edge[e_int][e_head]['capacity'] = float(e_cap)\n",
    "                    G.edge[e_int][e_head]['weight'] = float(e_wt)/2.0\n",
    "    for node in G.node:\n",
    "        if 'demand' not in G.node[node]:\n",
    "            G.node[node]['demand'] = 0\n",
    "        \n",
    "    return G\n",
    "    pass"
   ]
  },
  {
   "cell_type": "code",
   "execution_count": null,
   "metadata": {
    "collapsed": true
   },
   "outputs": [],
   "source": [
    "G_40 = create_graph('gte_bad.40')\n",
    "G_6830 = create_graph('gte_bad.6830')\n",
    "G_176280 = create_graph('gte_bad.176280')"
   ]
  },
  {
   "cell_type": "markdown",
   "metadata": {},
   "source": [
    "## Linear Programming\n",
    "\n",
    "Function to formulate the flow LP and return the optimal value (i.e., minimum cost over feasible flows).\n"
   ]
  },
  {
   "cell_type": "code",
   "execution_count": 13,
   "metadata": {
    "collapsed": true
   },
   "outputs": [],
   "source": [
    "import pulp\n",
    "\n",
    "def lp_flow_value(G):\n",
    "    \"\"\"Computes the value of the minimum cost flow by formulating and solving\n",
    "    the problem as an LP.\n",
    "    \n",
    "    Args:\n",
    "        G: a directed graph with edges annotated with 'capacity' and 'weight'\n",
    "            attrbutes, and nodes annotated with 'demand' attributes.\n",
    "            \n",
    "    Returns:\n",
    "        The value of the minimum cost flow.\n",
    "    \"\"\"\n",
    "   \n",
    "    # dictionary of weights \n",
    "    weights = {}\n",
    "    for (i,j) in G.edges():\n",
    "        weights[(i,j)] = G.edge[i][j]['weight']\n",
    "    \n",
    "    # dictionary of capacities\n",
    "    caps = {}\n",
    "    for (i,j) in G.edges():\n",
    "        caps[(i,j)] = G.edge[i][j]['capacity']\n",
    "\n",
    "    # dictionary of demands\n",
    "    demands = {}\n",
    "    for n in G.nodes():\n",
    "        demands[n] = G.node[n]['demand']\n",
    "        \n",
    "    # dictionary of flow variables for L.P.\n",
    "    flow = pulp.LpVariable.dicts(\"fl\",G.edges(),0,cat='Integer')\n",
    "\n",
    "    # set upper bound of flow variable to capacity of edge\n",
    "    for i in flow.viewkeys():\n",
    "        flow[i].bounds(0,caps[i])\n",
    "\n",
    "    # create L.P. problem\n",
    "    lp = pulp.LpProblem(\"Min-Cost Flow Problem\",pulp.LpMinimize)\n",
    "\n",
    "    # objective function\n",
    "    lp += pulp.lpSum([flow[i]*weights[i] for i in G.edges()]), \"Total Cost of Flow\"\n",
    "\n",
    "    # constraints\n",
    "    N = G.nodes()\n",
    "    for n in N:\n",
    "        lp += (pulp.lpSum([flow[(j,i)] for (j,i) in G.edges() if i==n]) - pulp.lpSum([flow[(i,j)] for (i,j) in G.edges() if i==n])) == demands[n]\n",
    "    \n",
    "    # solving problem\n",
    "    lp.solve()\n",
    "    \n",
    "    # returning min-cost flow\n",
    "    return pulp.value(lp.objective)\n",
    "    \n",
    "    pass"
   ]
  },
  {
   "cell_type": "code",
   "execution_count": null,
   "metadata": {
    "collapsed": true
   },
   "outputs": [],
   "source": []
  }
 ],
 "metadata": {
  "kernelspec": {
   "display_name": "Python 3",
   "language": "python",
   "name": "python3"
  },
  "language_info": {
   "codemirror_mode": {
    "name": "ipython",
    "version": 3
   },
   "file_extension": ".py",
   "mimetype": "text/x-python",
   "name": "python",
   "nbconvert_exporter": "python",
   "pygments_lexer": "ipython3",
   "version": "3.6.3"
  }
 },
 "nbformat": 4,
 "nbformat_minor": 1
}
